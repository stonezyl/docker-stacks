{
 "cells": [
  {
   "cell_type": "code",
   "execution_count": 1,
   "metadata": {},
   "outputs": [
    {
     "name": "stdout",
     "output_type": "stream",
     "text": [
      "[0]\teval-auc:0.5\ttrain-auc:0.5\n",
      "[1]\teval-auc:0.5\ttrain-auc:0.5\n",
      "[2]\teval-auc:0.5\ttrain-auc:0.5\n",
      "[3]\teval-auc:0.5\ttrain-auc:0.5\n",
      "[4]\teval-auc:0.5\ttrain-auc:0.5\n",
      "[5]\teval-auc:0.5\ttrain-auc:0.5\n",
      "[6]\teval-auc:0.5\ttrain-auc:0.5\n",
      "[7]\teval-auc:0.5\ttrain-auc:0.5\n",
      "[8]\teval-auc:0.5\ttrain-auc:0.5\n",
      "[9]\teval-auc:0.5\ttrain-auc:0.5\n"
     ]
    }
   ],
   "source": [
    "import numpy as np  \n",
    "import xgboost as xgb  \n",
    "data = np.random.rand(5,10) # 5 entities, each contains 10 features  \n",
    "label = np.random.randint(2, size=5) # binary target  \n",
    "dtrain = xgb.DMatrix( data, label=label)  \n",
    "  \n",
    "dtest = dtrain  \n",
    "  \n",
    "param = {'bst:max_depth':2, 'bst:eta':1, 'silent':1, 'objective':'binary:logistic' }  \n",
    "param['nthread'] = 4  \n",
    "param['eval_metric'] = 'auc'  \n",
    "  \n",
    "evallist  = [(dtest,'eval'), (dtrain,'train')]  \n",
    "  \n",
    "num_round = 10  \n",
    "bst = xgb.train( param, dtrain, num_round, evallist )  \n",
    "  \n",
    "# bst.dump_model('dump.raw.txt') "
   ]
  },
  {
   "cell_type": "code",
   "execution_count": 1,
   "metadata": {
    "ExecuteTime": {
     "end_time": "2017-12-19T16:13:47.024600Z",
     "start_time": "2017-12-19T16:13:46.477600Z"
    }
   },
   "outputs": [
    {
     "data": {
      "text/plain": [
       "'0.19.1'"
      ]
     },
     "execution_count": 1,
     "metadata": {},
     "output_type": "execute_result"
    }
   ],
   "source": [
    "import scipy as sp\n",
    "sp.__version__"
   ]
  },
  {
   "cell_type": "code",
   "execution_count": 4,
   "metadata": {
    "ExecuteTime": {
     "end_time": "2017-12-19T16:14:30.263600Z",
     "start_time": "2017-12-19T16:14:30.255600Z"
    }
   },
   "outputs": [
    {
     "data": {
      "text/plain": [
       "'1.13.3'"
      ]
     },
     "execution_count": 4,
     "metadata": {},
     "output_type": "execute_result"
    }
   ],
   "source": [
    "import numpy as np\n",
    "np.__version__"
   ]
  },
  {
   "cell_type": "code",
   "execution_count": 5,
   "metadata": {
    "ExecuteTime": {
     "end_time": "2017-12-19T16:15:14.410600Z",
     "start_time": "2017-12-19T16:14:49.830600Z"
    }
   },
   "outputs": [
    {
     "name": "stdout",
     "output_type": "stream",
     "text": [
      "\n",
      "INSTALLED VERSIONS\n",
      "------------------\n",
      "commit: None\n",
      "python: 3.6.3.final.0\n",
      "python-bits: 32\n",
      "OS: Windows\n",
      "OS-release: 7\n",
      "machine: x86\n",
      "processor: x86 Family 6 Model 23 Stepping 10, GenuineIntel\n",
      "byteorder: little\n",
      "LC_ALL: None\n",
      "LANG: None\n",
      "LOCALE: None.None\n",
      "\n",
      "pandas: 0.20.3\n",
      "pytest: 3.2.1\n",
      "pip: 9.0.1\n",
      "setuptools: 38.2.4\n",
      "Cython: 0.26.1\n",
      "numpy: 1.13.3\n",
      "scipy: 0.19.1\n",
      "xarray: None\n",
      "IPython: 6.1.0\n",
      "sphinx: 1.6.3\n",
      "patsy: 0.4.1\n",
      "dateutil: 2.6.1\n",
      "pytz: 2017.2\n",
      "blosc: None\n",
      "bottleneck: 1.2.1\n",
      "tables: 3.4.2\n",
      "numexpr: 2.6.2\n",
      "feather: None\n",
      "matplotlib: 2.0.2\n",
      "openpyxl: 2.4.8\n",
      "xlrd: 1.1.0\n",
      "xlwt: 1.3.0\n",
      "xlsxwriter: 1.0.2\n",
      "lxml: 4.1.0\n",
      "bs4: 4.6.0\n",
      "html5lib: 0.999999999\n",
      "sqlalchemy: 1.1.13\n",
      "pymysql: None\n",
      "psycopg2: None\n",
      "jinja2: 2.9.6\n",
      "s3fs: None\n",
      "pandas_gbq: None\n",
      "pandas_datareader: None\n"
     ]
    }
   ],
   "source": [
    "import pandas as pd\n",
    "pd.show_versions()"
   ]
  },
  {
   "cell_type": "code",
   "execution_count": 7,
   "metadata": {
    "ExecuteTime": {
     "end_time": "2017-12-19T16:17:36.900600Z",
     "start_time": "2017-12-19T16:17:36.889600Z"
    }
   },
   "outputs": [
    {
     "data": {
      "text/plain": [
       "'0.8.0'"
      ]
     },
     "execution_count": 7,
     "metadata": {},
     "output_type": "execute_result"
    }
   ],
   "source": [
    "import seaborn as sns\n",
    "sns.__version__"
   ]
  },
  {
   "cell_type": "code",
   "execution_count": 8,
   "metadata": {
    "ExecuteTime": {
     "end_time": "2017-12-19T16:18:24.472600Z",
     "start_time": "2017-12-19T16:18:21.800600Z"
    }
   },
   "outputs": [
    {
     "data": {
      "text/plain": [
       "'0.6'"
      ]
     },
     "execution_count": 8,
     "metadata": {},
     "output_type": "execute_result"
    }
   ],
   "source": [
    "import xgboost as xgb\n",
    "xgb.__version__"
   ]
  },
  {
   "cell_type": "code",
   "execution_count": null,
   "metadata": {
    "collapsed": true
   },
   "outputs": [],
   "source": [
    "import "
   ]
  }
 ],
 "metadata": {
  "kernelspec": {
   "display_name": "Python 3",
   "language": "python",
   "name": "python3"
  },
  "language_info": {
   "codemirror_mode": {
    "name": "ipython",
    "version": 3
   },
   "file_extension": ".py",
   "mimetype": "text/x-python",
   "name": "python",
   "nbconvert_exporter": "python",
   "pygments_lexer": "ipython3",
   "version": "3.6.3"
  },
  "toc": {
   "nav_menu": {},
   "number_sections": true,
   "sideBar": true,
   "skip_h1_title": false,
   "toc_cell": false,
   "toc_position": {},
   "toc_section_display": "block",
   "toc_window_display": false
  }
 },
 "nbformat": 4,
 "nbformat_minor": 2
}
